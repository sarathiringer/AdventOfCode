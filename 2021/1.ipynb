{
 "cells": [
  {
   "cell_type": "markdown",
   "metadata": {
    "id": "woNpG0K4Ipwg"
   },
   "source": [
    "Part 1"
   ]
  },
  {
   "cell_type": "code",
   "execution_count": 1,
   "metadata": {
    "executionInfo": {
     "elapsed": 3,
     "status": "ok",
     "timestamp": 1638362707337,
     "user": {
      "displayName": "Sara Thiringer",
      "photoUrl": "https://lh3.googleusercontent.com/a-/AOh14Gg72A5aQN47UfwLKO-awb2pvcfvH-cuzng82ux1q2s=s64",
      "userId": "09668762090250139543"
     },
     "user_tz": -60
    },
    "id": "7XZgTjcIBacy"
   },
   "outputs": [],
   "source": [
    "sonar = [199,\n",
    "         200,\n",
    "         208,\n",
    "         210, \n",
    "         200,\n",
    "         207, \n",
    "         240,\n",
    "         269,\n",
    "         260,\n",
    "         263]"
   ]
  },
  {
   "cell_type": "code",
   "execution_count": 2,
   "metadata": {
    "executionInfo": {
     "elapsed": 416,
     "status": "ok",
     "timestamp": 1638363295818,
     "user": {
      "displayName": "Sara Thiringer",
      "photoUrl": "https://lh3.googleusercontent.com/a-/AOh14Gg72A5aQN47UfwLKO-awb2pvcfvH-cuzng82ux1q2s=s64",
      "userId": "09668762090250139543"
     },
     "user_tz": -60
    },
    "id": "RdfN8cKABsdZ"
   },
   "outputs": [],
   "source": [
    "def count_increase(sonar):\n",
    "    sonar_plus = [sonar[0]] + sonar\n",
    "    increase = [sonar_plus[i] if sonar_plus[i] > sonar_plus[i-1] else None for i in range(1, len(sonar_plus))]\n",
    "    increase = [i for i in increase if i]\n",
    "    return len(increase)"
   ]
  },
  {
   "cell_type": "code",
   "execution_count": 3,
   "metadata": {
    "colab": {
     "base_uri": "https://localhost:8080/"
    },
    "executionInfo": {
     "elapsed": 2074,
     "status": "ok",
     "timestamp": 1638363805581,
     "user": {
      "displayName": "Sara Thiringer",
      "photoUrl": "https://lh3.googleusercontent.com/a-/AOh14Gg72A5aQN47UfwLKO-awb2pvcfvH-cuzng82ux1q2s=s64",
      "userId": "09668762090250139543"
     },
     "user_tz": -60
    },
    "id": "jBYJYNhTCeoJ",
    "outputId": "8ae246f4-44bf-4d6c-d595-4fa975c5c5d3"
   },
   "outputs": [
    {
     "name": "stdout",
     "output_type": "stream",
     "text": [
      "3.11 µs ± 227 ns per loop (mean ± std. dev. of 7 runs, 100000 loops each)\n"
     ]
    }
   ],
   "source": [
    "%%timeit\n",
    "count_increase(sonar)"
   ]
  },
  {
   "cell_type": "code",
   "execution_count": 4,
   "metadata": {
    "executionInfo": {
     "elapsed": 3,
     "status": "ok",
     "timestamp": 1638363485793,
     "user": {
      "displayName": "Sara Thiringer",
      "photoUrl": "https://lh3.googleusercontent.com/a-/AOh14Gg72A5aQN47UfwLKO-awb2pvcfvH-cuzng82ux1q2s=s64",
      "userId": "09668762090250139543"
     },
     "user_tz": -60
    },
    "id": "ibK4UdaPCo0l"
   },
   "outputs": [],
   "source": [
    "def count_increase_2(sonar):\n",
    "    check_nr = sonar[0]\n",
    "    increase = 0\n",
    "    for i in sonar:\n",
    "        if i > check_nr:\n",
    "            increase += 1\n",
    "        check_nr = i\n",
    "\n",
    "    return increase"
   ]
  },
  {
   "cell_type": "code",
   "execution_count": 5,
   "metadata": {
    "colab": {
     "base_uri": "https://localhost:8080/"
    },
    "executionInfo": {
     "elapsed": 6335,
     "status": "ok",
     "timestamp": 1638363840358,
     "user": {
      "displayName": "Sara Thiringer",
      "photoUrl": "https://lh3.googleusercontent.com/a-/AOh14Gg72A5aQN47UfwLKO-awb2pvcfvH-cuzng82ux1q2s=s64",
      "userId": "09668762090250139543"
     },
     "user_tz": -60
    },
    "id": "iwxauB2PEnaB",
    "outputId": "c738de14-1a24-4378-9555-567785b1d6fc"
   },
   "outputs": [
    {
     "name": "stdout",
     "output_type": "stream",
     "text": [
      "777 ns ± 27.2 ns per loop (mean ± std. dev. of 7 runs, 1000000 loops each)\n"
     ]
    }
   ],
   "source": [
    "%%timeit\n",
    "count_increase_2(sonar)"
   ]
  },
  {
   "cell_type": "code",
   "execution_count": 6,
   "metadata": {
    "executionInfo": {
     "elapsed": 412,
     "status": "ok",
     "timestamp": 1638364343767,
     "user": {
      "displayName": "Sara Thiringer",
      "photoUrl": "https://lh3.googleusercontent.com/a-/AOh14Gg72A5aQN47UfwLKO-awb2pvcfvH-cuzng82ux1q2s=s64",
      "userId": "09668762090250139543"
     },
     "user_tz": -60
    },
    "id": "9ShthiOyGZ9v"
   },
   "outputs": [],
   "source": [
    "# Load input\n",
    "with open('AdventOfCode1.txt') as f:\n",
    "    lines = f.readlines()\n",
    "    lines = [int(i.rstrip()) for i in lines]"
   ]
  },
  {
   "cell_type": "code",
   "execution_count": 7,
   "metadata": {
    "colab": {
     "base_uri": "https://localhost:8080/"
    },
    "executionInfo": {
     "elapsed": 413,
     "status": "ok",
     "timestamp": 1638364365478,
     "user": {
      "displayName": "Sara Thiringer",
      "photoUrl": "https://lh3.googleusercontent.com/a-/AOh14Gg72A5aQN47UfwLKO-awb2pvcfvH-cuzng82ux1q2s=s64",
      "userId": "09668762090250139543"
     },
     "user_tz": -60
    },
    "id": "bKv9xU7aHs-Z",
    "outputId": "ec0686ca-cacd-4468-eb96-f163a67f4b19"
   },
   "outputs": [
    {
     "data": {
      "text/plain": [
       "7"
      ]
     },
     "execution_count": 7,
     "metadata": {},
     "output_type": "execute_result"
    }
   ],
   "source": [
    "# Check result\n",
    "count_increase_2(sonar)"
   ]
  },
  {
   "cell_type": "markdown",
   "metadata": {
    "id": "Y_IBYkm4ImtT"
   },
   "source": [
    "Part 2"
   ]
  },
  {
   "cell_type": "code",
   "execution_count": 8,
   "metadata": {
    "executionInfo": {
     "elapsed": 411,
     "status": "ok",
     "timestamp": 1638364966780,
     "user": {
      "displayName": "Sara Thiringer",
      "photoUrl": "https://lh3.googleusercontent.com/a-/AOh14Gg72A5aQN47UfwLKO-awb2pvcfvH-cuzng82ux1q2s=s64",
      "userId": "09668762090250139543"
     },
     "user_tz": -60
    },
    "id": "9woK1j1vHwm1"
   },
   "outputs": [],
   "source": [
    "def window_increase(sonar, window_size):\n",
    "  spots = len(sonar) - (window_size - 1)\n",
    "\n",
    "  sum_list = []\n",
    "  for i in range(spots):\n",
    "    sum_at_hand = sum(sonar[i:i+window_size])\n",
    "    sum_list.append(sum_at_hand)\n",
    "\n",
    "  check_sum = sum_list[0]\n",
    "  increase = 0\n",
    "  for i in sum_list:\n",
    "    if i > check_sum:\n",
    "      increase += 1\n",
    "    check_sum = i\n",
    "\n",
    "  return increase\n"
   ]
  },
  {
   "cell_type": "code",
   "execution_count": 9,
   "metadata": {
    "colab": {
     "base_uri": "https://localhost:8080/"
    },
    "executionInfo": {
     "elapsed": 5,
     "status": "ok",
     "timestamp": 1638364968216,
     "user": {
      "displayName": "Sara Thiringer",
      "photoUrl": "https://lh3.googleusercontent.com/a-/AOh14Gg72A5aQN47UfwLKO-awb2pvcfvH-cuzng82ux1q2s=s64",
      "userId": "09668762090250139543"
     },
     "user_tz": -60
    },
    "id": "UrZ19bW6Jpm7",
    "outputId": "63f6b6a6-a092-498e-8a77-601d43da1945"
   },
   "outputs": [
    {
     "data": {
      "text/plain": [
       "5"
      ]
     },
     "execution_count": 9,
     "metadata": {},
     "output_type": "execute_result"
    }
   ],
   "source": [
    "# Test\n",
    "window_increase(sonar, 3)"
   ]
  },
  {
   "cell_type": "code",
   "execution_count": null,
   "metadata": {},
   "outputs": [],
   "source": [
    "# Check result for final list\n",
    "window_increase(lines, 3)"
   ]
  }
 ],
 "metadata": {
  "colab": {
   "authorship_tag": "ABX9TyPaoBtNdHW9gyLxMe/Ap6rT",
   "name": "1.ipynb",
   "provenance": []
  },
  "kernelspec": {
   "display_name": "Python 3",
   "language": "python",
   "name": "python3"
  },
  "language_info": {
   "codemirror_mode": {
    "name": "ipython",
    "version": 3
   },
   "file_extension": ".py",
   "mimetype": "text/x-python",
   "name": "python",
   "nbconvert_exporter": "python",
   "pygments_lexer": "ipython3",
   "version": "3.8.3"
  }
 },
 "nbformat": 4,
 "nbformat_minor": 1
}
