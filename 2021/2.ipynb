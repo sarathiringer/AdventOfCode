{
 "cells": [
  {
   "cell_type": "markdown",
   "metadata": {
    "id": "GplQvn3oGZWJ"
   },
   "source": [
    "Part 1"
   ]
  },
  {
   "cell_type": "code",
   "execution_count": 1,
   "metadata": {
    "executionInfo": {
     "elapsed": 221,
     "status": "ok",
     "timestamp": 1638447310390,
     "user": {
      "displayName": "Sara Thiringer",
      "photoUrl": "https://lh3.googleusercontent.com/a-/AOh14Gg72A5aQN47UfwLKO-awb2pvcfvH-cuzng82ux1q2s=s64",
      "userId": "09668762090250139543"
     },
     "user_tz": -60
    },
    "id": "NfPkf2iC8TN6"
   },
   "outputs": [],
   "source": [
    "directions = []\n",
    "movements = []\n",
    "with open(\"AdventOfCode2Example.txt\") as f:\n",
    "    for line in f:\n",
    "        (direction, movement) = line.split()\n",
    "        directions.append(direction)\n",
    "        if direction == \"up\":\n",
    "            movements.append(-int(movement))\n",
    "        else: \n",
    "            movements.append(int(movement))"
   ]
  },
  {
   "cell_type": "code",
   "execution_count": 2,
   "metadata": {},
   "outputs": [
    {
     "data": {
      "text/plain": [
       "['forward', 'down', 'forward', 'up', 'down']"
      ]
     },
     "execution_count": 2,
     "metadata": {},
     "output_type": "execute_result"
    }
   ],
   "source": [
    "directions[:5]"
   ]
  },
  {
   "cell_type": "code",
   "execution_count": 3,
   "metadata": {},
   "outputs": [
    {
     "data": {
      "text/plain": [
       "[5, 5, 8, -3, 8]"
      ]
     },
     "execution_count": 3,
     "metadata": {},
     "output_type": "execute_result"
    }
   ],
   "source": [
    "movements[:5]"
   ]
  },
  {
   "cell_type": "code",
   "execution_count": 4,
   "metadata": {
    "executionInfo": {
     "elapsed": 2,
     "status": "ok",
     "timestamp": 1638447310659,
     "user": {
      "displayName": "Sara Thiringer",
      "photoUrl": "https://lh3.googleusercontent.com/a-/AOh14Gg72A5aQN47UfwLKO-awb2pvcfvH-cuzng82ux1q2s=s64",
      "userId": "09668762090250139543"
     },
     "user_tz": -60
    },
    "id": "u5-vfyhs9asz"
   },
   "outputs": [],
   "source": [
    "def get_position(directions, movements):\n",
    "    h_position = 0\n",
    "    depth = 0\n",
    "    for i, d in enumerate(directions):\n",
    "        if d == \"forward\":\n",
    "            h_position += movements[i]\n",
    "        elif d in [\"up\", \"down\"]:\n",
    "            depth += movements[i]\n",
    "\n",
    "    print(f\"Horizontal position: {h_position}\")\n",
    "    print(f\"Depth: {depth}\")\n",
    "    print(f\"Multiplied position: {h_position * depth}\")"
   ]
  },
  {
   "cell_type": "code",
   "execution_count": 5,
   "metadata": {
    "colab": {
     "base_uri": "https://localhost:8080/"
    },
    "executionInfo": {
     "elapsed": 3,
     "status": "ok",
     "timestamp": 1638447311284,
     "user": {
      "displayName": "Sara Thiringer",
      "photoUrl": "https://lh3.googleusercontent.com/a-/AOh14Gg72A5aQN47UfwLKO-awb2pvcfvH-cuzng82ux1q2s=s64",
      "userId": "09668762090250139543"
     },
     "user_tz": -60
    },
    "id": "eTx5VK0E-2A0",
    "outputId": "8d8f0f55-c13c-46b0-fecb-67aeeb4fc8bd"
   },
   "outputs": [
    {
     "name": "stdout",
     "output_type": "stream",
     "text": [
      "Horizontal position: 15\n",
      "Depth: 10\n",
      "Multiplied position: 150\n"
     ]
    }
   ],
   "source": [
    "get_position(directions, movements)"
   ]
  },
  {
   "cell_type": "markdown",
   "metadata": {
    "id": "93iGoB67-3le"
   },
   "source": [
    "Part 2"
   ]
  },
  {
   "cell_type": "code",
   "execution_count": 6,
   "metadata": {},
   "outputs": [],
   "source": [
    "depth = 0\n",
    "aim = 0\n",
    "h_position = 0"
   ]
  },
  {
   "cell_type": "code",
   "execution_count": 7,
   "metadata": {},
   "outputs": [],
   "source": [
    "def down(x):\n",
    "    global aim\n",
    "    aim += x\n",
    "    \n",
    "def up(x):\n",
    "    global aim\n",
    "    aim -= x\n",
    "    \n",
    "def forward(x):\n",
    "    global h_position, depth, aim\n",
    "    h_position += x\n",
    "    depth += aim * x"
   ]
  },
  {
   "cell_type": "code",
   "execution_count": 8,
   "metadata": {},
   "outputs": [],
   "source": [
    "movement_mapping = {\"down\" : down, \"up\" : up, \"forward\" : forward}"
   ]
  },
  {
   "cell_type": "code",
   "execution_count": 9,
   "metadata": {},
   "outputs": [],
   "source": [
    "directions = []\n",
    "movements = []\n",
    "with open(\"AdventOfCode2Example.txt\") as f:\n",
    "    for line in f:\n",
    "        (direction, movement) = line.split()\n",
    "        directions.append(direction)\n",
    "        movements.append(int(movement))"
   ]
  },
  {
   "cell_type": "code",
   "execution_count": 10,
   "metadata": {},
   "outputs": [],
   "source": [
    "def get_position(directions, movements):\n",
    "    global aim, h_position, depth\n",
    "    for i, d in enumerate(directions):\n",
    "        movement_mapping[d](movements[i])\n",
    "        \n",
    "    print(f\"Horizontal position: {h_position}\")\n",
    "    print(f\"Depth: {depth}\")\n",
    "    print(f\"Aim: {aim}\")\n",
    "    print(f\"Multiplied position: {h_position * depth}\")"
   ]
  },
  {
   "cell_type": "code",
   "execution_count": 11,
   "metadata": {},
   "outputs": [
    {
     "name": "stdout",
     "output_type": "stream",
     "text": [
      "Horizontal position: 15\n",
      "Depth: 60\n",
      "Aim: 10\n",
      "Multiplied position: 900\n"
     ]
    }
   ],
   "source": [
    "get_position(directions, movements)"
   ]
  },
  {
   "cell_type": "code",
   "execution_count": null,
   "metadata": {},
   "outputs": [],
   "source": []
  },
  {
   "cell_type": "code",
   "execution_count": null,
   "metadata": {},
   "outputs": [],
   "source": []
  }
 ],
 "metadata": {
  "colab": {
   "authorship_tag": "ABX9TyNzZ0/EUoD1iT9Un2/faYlI",
   "name": "2.ipynb",
   "provenance": []
  },
  "kernelspec": {
   "display_name": "Python 3",
   "language": "python",
   "name": "python3"
  },
  "language_info": {
   "codemirror_mode": {
    "name": "ipython",
    "version": 3
   },
   "file_extension": ".py",
   "mimetype": "text/x-python",
   "name": "python",
   "nbconvert_exporter": "python",
   "pygments_lexer": "ipython3",
   "version": "3.8.3"
  }
 },
 "nbformat": 4,
 "nbformat_minor": 1
}
