{
 "cells": [
  {
   "cell_type": "markdown",
   "metadata": {},
   "source": [
    "Part 1"
   ]
  },
  {
   "cell_type": "code",
   "execution_count": 1,
   "metadata": {},
   "outputs": [],
   "source": [
    "from statistics import mode"
   ]
  },
  {
   "cell_type": "code",
   "execution_count": 2,
   "metadata": {},
   "outputs": [],
   "source": [
    "with open('AdventOfCode3Example.txt') as f:\n",
    "    report = [i.rstrip() for i in f.readlines()]"
   ]
  },
  {
   "cell_type": "code",
   "execution_count": 3,
   "metadata": {},
   "outputs": [],
   "source": [
    "def diagnostic(report):\n",
    "    gamma_binary = ''\n",
    "    epsilon_binary = ''\n",
    "    for i in range(len(report[0])):\n",
    "        binary = ''\n",
    "        for j in report:\n",
    "            binary += j[i]\n",
    "        gamma_binary += mode(binary)\n",
    "    epsilon_binary = ''.join(['1' if g == '0' else '0' for g in gamma_binary])\n",
    "    gamma = int(gamma_binary, 2)\n",
    "    epsilon = int(epsilon_binary, 2)\n",
    "            \n",
    "    print(f'Gamma rate: {gamma}')\n",
    "    print(f'Epsilon rate: {epsilon}')\n",
    "    print(f'Power consumption: {gamma * epsilon}')"
   ]
  },
  {
   "cell_type": "code",
   "execution_count": 4,
   "metadata": {},
   "outputs": [
    {
     "name": "stdout",
     "output_type": "stream",
     "text": [
      "Gamma rate: 22\n",
      "Epsilon rate: 9\n",
      "Power consumption: 198\n"
     ]
    }
   ],
   "source": [
    "diagnostic(report)"
   ]
  },
  {
   "cell_type": "markdown",
   "metadata": {},
   "source": [
    "Part 2"
   ]
  },
  {
   "cell_type": "code",
   "execution_count": 5,
   "metadata": {},
   "outputs": [],
   "source": [
    "from statistics import multimode"
   ]
  },
  {
   "cell_type": "code",
   "execution_count": 6,
   "metadata": {},
   "outputs": [],
   "source": [
    "def life_support_rating(report):\n",
    "    keep_ogr = report\n",
    "    keep_C02 = report\n",
    "    for i in range(len(report[0])):\n",
    "        if len(keep_ogr) > 1:\n",
    "            first_bit = max(multimode([k[i] for k in keep_ogr]))\n",
    "            keep_ogr = [k for k in keep_ogr if k[i] == first_bit]\n",
    "        if len(keep_C02) > 1:\n",
    "            first_bit = '0' if max(multimode([k[i] for k in keep_C02])) == '1' else '1'\n",
    "            keep_C02 = [k for k in keep_C02 if k[i] == first_bit]\n",
    "    oxygen_generator_rating = int(keep_ogr[0], 2)\n",
    "    CO2_scrubber_rating = int(keep_C02[0], 2)\n",
    "    \n",
    "    print(f'Oxygen generator rating: {oxygen_generator_rating}')\n",
    "    print(f'CO2 scrubber rating: {CO2_scrubber_rating}')\n",
    "    print(f'Life support rating: {oxygen_generator_rating * CO2_scrubber_rating}')"
   ]
  },
  {
   "cell_type": "code",
   "execution_count": 7,
   "metadata": {},
   "outputs": [
    {
     "name": "stdout",
     "output_type": "stream",
     "text": [
      "Oxygen generator rating: 23\n",
      "CO2 scrubber rating: 10\n",
      "Life support rating: 230\n"
     ]
    }
   ],
   "source": [
    "life_support_rating(report)"
   ]
  },
  {
   "cell_type": "code",
   "execution_count": null,
   "metadata": {},
   "outputs": [],
   "source": []
  }
 ],
 "metadata": {
  "kernelspec": {
   "display_name": "Python 3",
   "language": "python",
   "name": "python3"
  },
  "language_info": {
   "codemirror_mode": {
    "name": "ipython",
    "version": 3
   },
   "file_extension": ".py",
   "mimetype": "text/x-python",
   "name": "python",
   "nbconvert_exporter": "python",
   "pygments_lexer": "ipython3",
   "version": "3.8.3"
  }
 },
 "nbformat": 4,
 "nbformat_minor": 4
}
