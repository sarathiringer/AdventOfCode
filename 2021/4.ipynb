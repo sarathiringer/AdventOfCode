{
 "cells": [
  {
   "cell_type": "markdown",
   "metadata": {},
   "source": [
    "Part 1"
   ]
  },
  {
   "cell_type": "code",
   "execution_count": 1,
   "metadata": {},
   "outputs": [],
   "source": [
    "import numpy as np"
   ]
  },
  {
   "cell_type": "code",
   "execution_count": 2,
   "metadata": {},
   "outputs": [],
   "source": [
    "with open(\"AdventOfCode4Example.txt\") as f:\n",
    "    lines = [i.rstrip() for i in f.readlines()]\n",
    "    sequence = lines[0].split(',')\n",
    "    boards = list(filter(None, lines[1:]))\n",
    "    nr_of_boards = int(len(boards)/5)\n",
    "    for i, r in enumerate(boards):\n",
    "        r = list(filter(None, r.split(' ')))\n",
    "        boards[i] = r\n",
    "    boards = np.reshape(boards, (nr_of_boards, 5, 5))"
   ]
  },
  {
   "cell_type": "code",
   "execution_count": 3,
   "metadata": {},
   "outputs": [],
   "source": [
    "score_boards = np.full(boards.shape, False)"
   ]
  },
  {
   "cell_type": "code",
   "execution_count": 4,
   "metadata": {},
   "outputs": [],
   "source": [
    "bingo = np.full(len(boards), False)"
   ]
  },
  {
   "cell_type": "code",
   "execution_count": 5,
   "metadata": {},
   "outputs": [
    {
     "name": "stdout",
     "output_type": "stream",
     "text": [
      "Bingo!\n",
      "Winning board is: 3\n",
      "Winning score is: 4512\n"
     ]
    }
   ],
   "source": [
    "for s in sequence:\n",
    "    for n, board in enumerate(boards):\n",
    "        for i in range(5):\n",
    "            for j in range(5):\n",
    "                if board[i,j] == s:\n",
    "                    score_boards[n,i,j] = True\n",
    "    for n, score_board in enumerate(score_boards):\n",
    "        for row in score_board:\n",
    "            if sum(row) == 5:\n",
    "                print('Bingo!')\n",
    "                bingo[n] = True\n",
    "        for row in score_board.T:\n",
    "            if sum(row) == 5:\n",
    "                print('Bingo!')\n",
    "                bingo[n] = True\n",
    "    if sum(bingo) > 0:\n",
    "        winning_board_idx = np.argwhere(bingo == True)[0][0]\n",
    "        print(f\"Winning board is: {winning_board_idx+1}\")\n",
    "        winning_score = sum([int(nr) for nr in boards[winning_board_idx][~score_boards[winning_board_idx]]]) * int(s)\n",
    "        print(f\"Winning score is: {winning_score}\")\n",
    "        break"
   ]
  },
  {
   "cell_type": "markdown",
   "metadata": {},
   "source": [
    "Part 2"
   ]
  },
  {
   "cell_type": "code",
   "execution_count": null,
   "metadata": {},
   "outputs": [],
   "source": []
  }
 ],
 "metadata": {
  "kernelspec": {
   "display_name": "Python 3",
   "language": "python",
   "name": "python3"
  },
  "language_info": {
   "codemirror_mode": {
    "name": "ipython",
    "version": 3
   },
   "file_extension": ".py",
   "mimetype": "text/x-python",
   "name": "python",
   "nbconvert_exporter": "python",
   "pygments_lexer": "ipython3",
   "version": "3.8.3"
  }
 },
 "nbformat": 4,
 "nbformat_minor": 4
}
