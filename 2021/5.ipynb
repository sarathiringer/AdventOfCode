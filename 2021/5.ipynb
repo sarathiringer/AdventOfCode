{
 "cells": [
  {
   "cell_type": "code",
   "execution_count": 1,
   "metadata": {
    "scrolled": true
   },
   "outputs": [],
   "source": [
    "import numpy as np\n",
    "from collections import Counter"
   ]
  },
  {
   "cell_type": "markdown",
   "metadata": {},
   "source": [
    "Part 1"
   ]
  },
  {
   "cell_type": "code",
   "execution_count": 2,
   "metadata": {
    "scrolled": false
   },
   "outputs": [
    {
     "name": "stdout",
     "output_type": "stream",
     "text": [
      "Nr of coordinates where lines overlap at least twice: 5\n"
     ]
    }
   ],
   "source": [
    "points = []\n",
    "\n",
    "with open(\"AdventOfCode5Example.txt\") as f:\n",
    "    lines = f.readlines()\n",
    "    lines = [i.rstrip().split(' -> ') for i in lines]\n",
    "    for line in lines:\n",
    "        start, end = line\n",
    "        x1, y1 = [int(i) for i in start.split(',')]\n",
    "        x2, y2 = [int(i) for i in end.split(',')]\n",
    "        if x1 == x2:\n",
    "            diff = y1 - y2\n",
    "            smallest = min(y1, y2)\n",
    "            largest = max(y1, y2)\n",
    "            for yi in np.arange(smallest, largest):\n",
    "                new_point = [x1, yi]\n",
    "                points.append(new_point)\n",
    "            points.append([x1, largest])\n",
    "        elif y1 == y2:\n",
    "            smallest = min(x1, x2)\n",
    "            largest = max(x1, x2)\n",
    "            for xi in np.arange(smallest, largest):\n",
    "                new_point = [xi, y2]\n",
    "                points.append(new_point)\n",
    "            points.append([largest, y2])\n",
    "            \n",
    "points_string = [str(p) for p in points]\n",
    "overlapping_twice = [k for k,v in Counter(points_string).items() if v >= 2]\n",
    "print(f\"Nr of coordinates where lines overlap at least twice: {len(overlapping_twice)}\")"
   ]
  },
  {
   "cell_type": "markdown",
   "metadata": {},
   "source": [
    "Part 2"
   ]
  },
  {
   "cell_type": "code",
   "execution_count": null,
   "metadata": {},
   "outputs": [],
   "source": [
    "# Small warning: This code is veeery slow with the full input :/"
   ]
  },
  {
   "cell_type": "code",
   "execution_count": 4,
   "metadata": {},
   "outputs": [
    {
     "name": "stdout",
     "output_type": "stream",
     "text": [
      "Nr of coordinates where lines overlap at least twice: 12\n",
      "CPU times: user 2.77 ms, sys: 1.38 ms, total: 4.15 ms\n",
      "Wall time: 3.03 ms\n"
     ]
    }
   ],
   "source": [
    "%%time\n",
    "\n",
    "points = []\n",
    "\n",
    "with open(\"AdventOfCode5Example.txt\") as f:\n",
    "    lines = f.readlines()\n",
    "    lines = [i.rstrip().split(' -> ') for i in lines]\n",
    "    for line in lines:\n",
    "        start, end = line\n",
    "        x1, y1 = [int(i) for i in start.split(',')]\n",
    "        x2, y2 = [int(i) for i in end.split(',')]\n",
    "        if x1 == x2:\n",
    "            diff = y1 - y2\n",
    "            smallest = min(y1, y2)\n",
    "            largest = max(y1, y2)\n",
    "            for yi in np.arange(smallest, largest):\n",
    "                new_point = [x1, yi]\n",
    "                points.append(new_point)\n",
    "            points.append([x1, largest])\n",
    "        elif y1 == y2:\n",
    "            smallest = min(x1, x2)\n",
    "            largest = max(x1, x2)\n",
    "            for xi in np.arange(smallest, largest):\n",
    "                new_point = [xi, y2]\n",
    "                points.append(new_point)\n",
    "            points.append([largest, y2])\n",
    "        else:\n",
    "            nx = abs(x1 - x2)+1\n",
    "            ny = abs(y1 - y2)+1\n",
    "            x = np.linspace(x1, x2, nx)\n",
    "            y = np.linspace(y1, y2, ny)\n",
    "            xv, yv = np.meshgrid(x, y)\n",
    "            grid = np.zeros((nx,ny), dtype=(int,2))\n",
    "            for i in range(nx):\n",
    "                for j in range(ny):\n",
    "                    grid[i, j] = [int(xv[i,j]), int(yv[i,j])]\n",
    "            diag = np.diagonal(grid)\n",
    "            for i in range(nx):\n",
    "                new_point = [diag[0,i], diag[1,i]]\n",
    "                points.append(new_point)\n",
    "            \n",
    "points_string = [str(p) for p in points]\n",
    "overlapping_twice = [k for k,v in Counter(points_string).items() if v >= 2]\n",
    "print(f\"Nr of coordinates where lines overlap at least twice: {len(overlapping_twice)}\")"
   ]
  }
 ],
 "metadata": {
  "kernelspec": {
   "display_name": "Python 3",
   "language": "python",
   "name": "python3"
  },
  "language_info": {
   "codemirror_mode": {
    "name": "ipython",
    "version": 3
   },
   "file_extension": ".py",
   "mimetype": "text/x-python",
   "name": "python",
   "nbconvert_exporter": "python",
   "pygments_lexer": "ipython3",
   "version": "3.8.3"
  }
 },
 "nbformat": 4,
 "nbformat_minor": 4
}
