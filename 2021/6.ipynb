{
 "cells": [
  {
   "cell_type": "code",
   "execution_count": 2,
   "metadata": {},
   "outputs": [],
   "source": [
    "from collections import Counter"
   ]
  },
  {
   "cell_type": "code",
   "execution_count": 3,
   "metadata": {},
   "outputs": [],
   "source": [
    "def one_day(fish, day):\n",
    "    new_fish = False\n",
    "    reset_position = []\n",
    "    nr_new_fish = 0.\n",
    "    for i, f in enumerate(fish):\n",
    "        if f != 0.:\n",
    "            fish[i] -= 1.\n",
    "        else:\n",
    "            reset_position.append(i)\n",
    "            nr_new_fish += 1.\n",
    "            new_fish = True\n",
    "    if new_fish:\n",
    "        for j in range(int(nr_new_fish)):\n",
    "            fish.append(8.)\n",
    "        for k in reset_position:\n",
    "            fish[k] = 6.\n",
    "        new_fish = False\n",
    "    #print(f\"After {day+1} days: {fish}\")\n",
    "    return fish"
   ]
  },
  {
   "cell_type": "code",
   "execution_count": 4,
   "metadata": {},
   "outputs": [],
   "source": [
    "# Clear files used\n",
    "with open(\"modified_input_day_6.txt\", \"w\") as f:\n",
    "    f.write('')\n",
    "    \n",
    "with open(\"results_day_6.txt\", \"w\") as f:\n",
    "    f.write('')"
   ]
  },
  {
   "cell_type": "code",
   "execution_count": 14,
   "metadata": {},
   "outputs": [],
   "source": [
    "# Specify input and write to file\n",
    "fish = [3,4,3,1,2]\n",
    "fish = [0]\n",
    "days = 18\n",
    "#count_fish = Counter(fish)\n",
    "fish = [3,5,3,5,1,3,1,1,5,5,1,1,1,2,2,2,3,1,1,5,1,1,5,5,3,2,2,5,4,4,1,5,1,4,4,5,2,4,1,1,5,3,1,1,4,1,1,1,1,4,1,1,1,1,2,1,1,4,1,1,1,2,3,5,5,1,1,3,1,4,1,3,4,5,1,4,5,1,1,4,1,3,1,5,1,2,1,1,2,1,4,1,1,1,4,4,3,1,1,1,1,1,4,1,4,5,2,1,4,5,4,1,1,1,2,2,1,4,4,1,1,4,1,1,1,2,3,4,2,4,1,1,5,4,2,1,5,1,1,5,1,2,1,1,1,5,5,2,1,4,3,1,2,2,4,1,2,1,1,5,1,3,2,4,3,1,4,3,1,2,1,1,1,1,1,4,3,3,1,3,1,1,5,1,1,1,1,3,3,1,3,5,1,5,5,2,1,2,1,4,2,3,4,1,4,2,4,2,5,3,4,3,5,1,2,1,1,4,1,3,5,1,4,1,2,4,3,1,5,1,1,2,2,4,2,3,1,1,1,5,2,1,4,1,1,1,4,1,3,3,2,4,1,4,2,5,1,5,2,1,4,1,3,1,2,5,5,4,1,2,3,3,2,2,1,3,3,1,4,4,1,1,4,1,1,5,1,2,4,2,1,4,1,1,4,3,5,1,2,1]\n",
    "#days = 256\n",
    "count_fish = Counter(fish)\n",
    "for k,v in count_fish.items():\n",
    "    with open(\"modified_input_day_6.txt\", \"a\") as f:\n",
    "        f.write(str(k) + ',' + str(v) + '\\n')"
   ]
  },
  {
   "cell_type": "code",
   "execution_count": 15,
   "metadata": {},
   "outputs": [
    {
     "data": {
      "text/plain": [
       "Counter({3: 36, 5: 39, 1: 130, 2: 44, 4: 51})"
      ]
     },
     "execution_count": 15,
     "metadata": {},
     "output_type": "execute_result"
    }
   ],
   "source": [
    "count_fish"
   ]
  },
  {
   "cell_type": "code",
   "execution_count": 26,
   "metadata": {},
   "outputs": [
    {
     "data": {
      "text/plain": [
       "2373.4111322894464"
      ]
     },
     "execution_count": 26,
     "metadata": {},
     "output_type": "execute_result"
    }
   ],
   "source": [
    "(1*(1+0.54))**18"
   ]
  },
  {
   "cell_type": "code",
   "execution_count": null,
   "metadata": {},
   "outputs": [],
   "source": [
    "3347"
   ]
  },
  {
   "cell_type": "code",
   "execution_count": 17,
   "metadata": {},
   "outputs": [],
   "source": [
    "# For one fish at a time, calculate how many fish it will produce\n",
    "myfile = open(\"modified_input_day_6.txt\", \"r\")\n",
    "while myfile:\n",
    "    line  = myfile.readline()\n",
    "    if line == \"\":\n",
    "        break\n",
    "    k, v = line.split(',')\n",
    "    k = float(k)\n",
    "    v = float(v)\n",
    "    single_fish = [[k]]\n",
    "    total_fish = 0\n",
    "    for fish in single_fish:\n",
    "        for d in range(days):\n",
    "            one_day(fish, d)\n",
    "    total_fish += float(len(fish)) * v\n",
    "    with open(\"results_day_6.txt\", \"a\") as f:\n",
    "        f.write(str(total_fish) + '\\n')\n",
    "    \n",
    "myfile.close() "
   ]
  },
  {
   "cell_type": "code",
   "execution_count": 18,
   "metadata": {},
   "outputs": [
    {
     "name": "stdout",
     "output_type": "stream",
     "text": [
      "3347.0\n"
     ]
    }
   ],
   "source": [
    "# Add upp all fish offspring\n",
    "total = 0.\n",
    "myfile = open(\"results_day_6.txt\", \"r\")\n",
    "while myfile:\n",
    "    line  = myfile.readline()\n",
    "    if line == \"\":\n",
    "        break\n",
    "    total += float(line)\n",
    "myfile.close() \n",
    "print(total)"
   ]
  },
  {
   "cell_type": "code",
   "execution_count": null,
   "metadata": {},
   "outputs": [],
   "source": []
  }
 ],
 "metadata": {
  "kernelspec": {
   "display_name": "Python 3",
   "language": "python",
   "name": "python3"
  },
  "language_info": {
   "codemirror_mode": {
    "name": "ipython",
    "version": 3
   },
   "file_extension": ".py",
   "mimetype": "text/x-python",
   "name": "python",
   "nbconvert_exporter": "python",
   "pygments_lexer": "ipython3",
   "version": "3.8.3"
  }
 },
 "nbformat": 4,
 "nbformat_minor": 4
}
