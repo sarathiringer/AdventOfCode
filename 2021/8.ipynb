{
 "cells": [
  {
   "cell_type": "code",
   "execution_count": 35,
   "metadata": {},
   "outputs": [
    {
     "name": "stdout",
     "output_type": "stream",
     "text": [
      "Nr of times 1, 4, 7 or 8 appears: 272\n"
     ]
    }
   ],
   "source": [
    "instances = 0\n",
    "\n",
    "with open(\"AdventOfCode8.txt\", \"r\") as f:\n",
    "    while f:\n",
    "        line = f.readline().rstrip()\n",
    "        if line == \"\":\n",
    "            break\n",
    "        _, _, digit_output = line.partition(' | ')\n",
    "        digit_output = digit_output.split(' ')\n",
    "        for d in digit_output:\n",
    "            if len(d) in [2, 3, 4, 7]:\n",
    "                instances += 1\n",
    "f.close()\n",
    "print(f\"Nr of times 1, 4, 7 or 8 appears: {instances}\")"
   ]
  },
  {
   "cell_type": "code",
   "execution_count": null,
   "metadata": {},
   "outputs": [],
   "source": []
  }
 ],
 "metadata": {
  "kernelspec": {
   "display_name": "Python 3",
   "language": "python",
   "name": "python3"
  },
  "language_info": {
   "codemirror_mode": {
    "name": "ipython",
    "version": 3
   },
   "file_extension": ".py",
   "mimetype": "text/x-python",
   "name": "python",
   "nbconvert_exporter": "python",
   "pygments_lexer": "ipython3",
   "version": "3.8.3"
  }
 },
 "nbformat": 4,
 "nbformat_minor": 4
}
