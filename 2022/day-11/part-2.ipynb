{
 "cells": [
  {
   "cell_type": "code",
   "execution_count": 2,
   "metadata": {},
   "outputs": [],
   "source": [
    "import numpy as np\n",
    "import math\n",
    "\n",
    "with open(\"input.txt\", \"r\") as f:\n",
    "    lines = f.readlines()\n",
    "    lines = [l.strip() for l in lines]\n",
    "    lines = [lines[i: i+7] for i in range(0, len(lines), 7)]\n",
    "\n",
    "\n",
    "class Monkey():\n",
    "    def __init__(self, nr, items, operation, test):\n",
    "        op = {\n",
    "            \"*\": np.multiply,\n",
    "            \"+\": np.add,\n",
    "            \"-\": np.subtract,\n",
    "            \"/\": np.divide\n",
    "        }\n",
    "        self.nr = nr\n",
    "        self.items = items\n",
    "        self.operation_1 = op[operation[0]]\n",
    "        self.operation_2 = operation[1]\n",
    "        self.divisble = test[0]\n",
    "        self.if_true_throw_to = test[1]\n",
    "        self.if_false_throw_to = test [2]\n",
    "        self.number_of_inspections = 0\n",
    "\n",
    "    def inspect(self):\n",
    "        item = self.items.pop(0)\n",
    "        other = item if self.operation_2 == 'old' else int(self.operation_2)\n",
    "        new = self.operation_1(item, other)\n",
    "        self.number_of_inspections += 1\n",
    "        self.new = new\n",
    "\n",
    "    def test_item(self):\n",
    "        self.new = math.floor(self.new / 3)\n",
    "        if self.new % self.divisble == 0:\n",
    "            pass_to = self.if_true_throw_to\n",
    "        if not self.new % self.divisble == 0:\n",
    "            pass_to = self.if_false_throw_to\n",
    "        \n",
    "        return self.new, pass_to\n",
    "\n",
    "\n",
    "monkeys = []\n",
    "\n",
    "for line in lines:\n",
    "    nr = int(line[0][-2])\n",
    "    items = [int(i) for i in line[1][15:].split(',')]\n",
    "    operation = (line[2][21], line[2][23:])\n",
    "    test = (int(line[3][19:]), int(line[4][24:]), int(line[5][26:]))\n",
    "    monkey = Monkey(nr, items, operation, test)\n",
    "    monkeys.append(monkey)"
   ]
  },
  {
   "cell_type": "code",
   "execution_count": null,
   "metadata": {},
   "outputs": [],
   "source": []
  },
  {
   "cell_type": "code",
   "execution_count": 6,
   "metadata": {},
   "outputs": [
    {
     "name": "stdout",
     "output_type": "stream",
     "text": [
      "98\n",
      "2\n",
      "98\n",
      "7\n",
      "54\n",
      "2\n",
      "54\n",
      "3\n",
      "65\n",
      "5\n",
      "65\n",
      "13\n",
      "75\n",
      "3\n",
      "75\n",
      "5\n",
      "74\n",
      "2\n",
      "60\n",
      "2\n",
      "60\n",
      "3\n",
      "60\n",
      "5\n",
      "74\n",
      "2\n"
     ]
    }
   ],
   "source": [
    "for monkey in monkeys:\n",
    "    for item in monkey.items:\n",
    "        for number in [2, 3, 5, 7, 13, 17, 19]:\n",
    "            if item % number == 0:\n",
    "                print(item)\n",
    "                print(number)"
   ]
  },
  {
   "cell_type": "code",
   "execution_count": 7,
   "metadata": {},
   "outputs": [
    {
     "data": {
      "text/plain": [
       "14.0"
      ]
     },
     "execution_count": 7,
     "metadata": {},
     "output_type": "execute_result"
    }
   ],
   "source": [
    "98/7"
   ]
  },
  {
   "cell_type": "code",
   "execution_count": null,
   "metadata": {},
   "outputs": [],
   "source": []
  }
 ],
 "metadata": {
  "kernelspec": {
   "display_name": "Python 3.8.13 ('ds')",
   "language": "python",
   "name": "python3"
  },
  "language_info": {
   "codemirror_mode": {
    "name": "ipython",
    "version": 3
   },
   "file_extension": ".py",
   "mimetype": "text/x-python",
   "name": "python",
   "nbconvert_exporter": "python",
   "pygments_lexer": "ipython3",
   "version": "3.8.13"
  },
  "orig_nbformat": 4,
  "vscode": {
   "interpreter": {
    "hash": "8a3e6965134398496dd95aed694316ca78cea79cfd6f9dda22effa760393d142"
   }
  }
 },
 "nbformat": 4,
 "nbformat_minor": 2
}
