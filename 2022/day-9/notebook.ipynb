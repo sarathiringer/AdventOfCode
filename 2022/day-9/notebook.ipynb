{
 "cells": [
  {
   "cell_type": "code",
   "execution_count": 16,
   "metadata": {},
   "outputs": [],
   "source": [
    "import numpy as np\n",
    "from scipy.spatial import distance\n",
    "\n",
    "with open(\"2022/day-9/input.txt\", \"r\") as f:\n",
    "    lines = f.readlines()\n",
    "    lines = [l.strip().split(' ') for l in lines]\n",
    "    lines = [[i, int(j)] for i, j in lines]\n",
    "\n",
    "changes = {\n",
    "    'L': lambda x: (x[0], x[1]-1), \n",
    "    'R': lambda x: (x[0], x[1]+1),\n",
    "    'U': lambda x: (x[0]-1, x[1]),\n",
    "    'D': lambda x: (x[0]+1, x[1])\n",
    "}"
   ]
  },
  {
   "cell_type": "code",
   "execution_count": 81,
   "metadata": {},
   "outputs": [],
   "source": [
    "head = (0, 0)\n",
    "tail = (0, 0)\n",
    "tail_visits = []\n",
    "\n",
    "previous_direction = None\n",
    "for line in lines:\n",
    "    direction = line[0]\n",
    "    steps = line[1]\n",
    "    for step in range(steps):\n",
    "        head = changes[direction](head)\n",
    "        #print(\"head\", head)\n",
    "        #print(\"tail\", tail)\n",
    "        if distance.euclidean(head, tail) < 1.5:\n",
    "            tail_visits.append(tail)\n",
    "            continue\n",
    "        else:\n",
    "            possible_new_tail = [v(head) for k, v in changes.items()]\n",
    "            tail = possible_new_tail[np.argmin([distance.euclidean(tail, t) for t in possible_new_tail])]\n",
    "            tail_visits.append(tail)\n",
    "        #print(tail)"
   ]
  },
  {
   "cell_type": "code",
   "execution_count": 82,
   "metadata": {},
   "outputs": [
    {
     "data": {
      "text/plain": [
       "6057"
      ]
     },
     "execution_count": 82,
     "metadata": {},
     "output_type": "execute_result"
    }
   ],
   "source": [
    "len(set(tail_visits))"
   ]
  },
  {
   "cell_type": "code",
   "execution_count": 78,
   "metadata": {},
   "outputs": [
    {
     "data": {
      "text/plain": [
       "[(0, 0),\n",
       " (0, 1),\n",
       " (0, 2),\n",
       " (0, 3),\n",
       " (0, 3),\n",
       " (-1, 4),\n",
       " (-2, 4),\n",
       " (-3, 4),\n",
       " (-3, 4),\n",
       " (-4, 3),\n",
       " (-4, 2),\n",
       " (-4, 2),\n",
       " (-4, 2),\n",
       " (-4, 2),\n",
       " (-3, 3),\n",
       " (-3, 4),\n",
       " (-3, 4),\n",
       " (-3, 4),\n",
       " (-3, 4),\n",
       " (-2, 3),\n",
       " (-2, 2),\n",
       " (-2, 1),\n",
       " (-2, 1),\n",
       " (-2, 1)]"
      ]
     },
     "execution_count": 78,
     "metadata": {},
     "output_type": "execute_result"
    }
   ],
   "source": [
    "tail_visits"
   ]
  },
  {
   "cell_type": "code",
   "execution_count": 25,
   "metadata": {},
   "outputs": [
    {
     "name": "stdout",
     "output_type": "stream",
     "text": [
      "new tail (4, 3)\n"
     ]
    }
   ],
   "source": [
    "my_head = (4, 2)\n",
    "my_tail = (3, 4)\n",
    "possible_tail = [(3, 2), (5, 2), (4, 1), (4, 3)]\n",
    "np.argmin([distance.euclidean(my_tail, t) for t in possible_tail])\n",
    "print(\"new tail\", possible_tail[3])"
   ]
  },
  {
   "cell_type": "code",
   "execution_count": 29,
   "metadata": {},
   "outputs": [
    {
     "data": {
      "text/plain": [
       "[(4, 1), (4, 3), (3, 2), (5, 2)]"
      ]
     },
     "execution_count": 29,
     "metadata": {},
     "output_type": "execute_result"
    }
   ],
   "source": [
    "[v(my_head) for k, v in changes.items()]"
   ]
  },
  {
   "cell_type": "code",
   "execution_count": 44,
   "metadata": {},
   "outputs": [
    {
     "data": {
      "text/plain": [
       "2.23606797749979"
      ]
     },
     "execution_count": 44,
     "metadata": {},
     "output_type": "execute_result"
    }
   ],
   "source": [
    "my_head = (4, 1)\n",
    "my_tail = (2, 0)\n",
    "distance.euclidean(my_head, my_tail)"
   ]
  },
  {
   "cell_type": "code",
   "execution_count": null,
   "metadata": {},
   "outputs": [],
   "source": []
  }
 ],
 "metadata": {
  "kernelspec": {
   "display_name": "Python 3.8.13 ('ds')",
   "language": "python",
   "name": "python3"
  },
  "language_info": {
   "codemirror_mode": {
    "name": "ipython",
    "version": 3
   },
   "file_extension": ".py",
   "mimetype": "text/x-python",
   "name": "python",
   "nbconvert_exporter": "python",
   "pygments_lexer": "ipython3",
   "version": "3.8.13"
  },
  "orig_nbformat": 4,
  "vscode": {
   "interpreter": {
    "hash": "8a3e6965134398496dd95aed694316ca78cea79cfd6f9dda22effa760393d142"
   }
  }
 },
 "nbformat": 4,
 "nbformat_minor": 2
}
